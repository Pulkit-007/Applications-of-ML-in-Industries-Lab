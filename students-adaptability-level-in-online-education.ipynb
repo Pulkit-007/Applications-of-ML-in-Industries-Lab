{
 "cells": [
  {
   "cell_type": "code",
   "execution_count": 1,
   "id": "0aaa4c42",
   "metadata": {
    "_cell_guid": "b1076dfc-b9ad-4769-8c92-a6c4dae69d19",
    "_uuid": "8f2839f25d086af736a60e9eeb907d3b93b6e0e5",
    "execution": {
     "iopub.execute_input": "2023-04-24T05:48:45.870944Z",
     "iopub.status.busy": "2023-04-24T05:48:45.870458Z",
     "iopub.status.idle": "2023-04-24T05:48:47.587149Z",
     "shell.execute_reply": "2023-04-24T05:48:47.585996Z"
    },
    "papermill": {
     "duration": 1.727055,
     "end_time": "2023-04-24T05:48:47.590598",
     "exception": false,
     "start_time": "2023-04-24T05:48:45.863543",
     "status": "completed"
    },
    "tags": []
   },
   "outputs": [],
   "source": [
    "import pandas as pd\n",
    "from sklearn.ensemble import RandomForestClassifier\n",
    "from sklearn.model_selection import train_test_split\n",
    "from sklearn.metrics import accuracy_score\n",
    "from sklearn.preprocessing import LabelEncoder"
   ]
  },
  {
   "cell_type": "code",
   "execution_count": 2,
   "id": "8a993a79",
   "metadata": {
    "execution": {
     "iopub.execute_input": "2023-04-24T05:48:47.602070Z",
     "iopub.status.busy": "2023-04-24T05:48:47.600510Z",
     "iopub.status.idle": "2023-04-24T05:48:47.634434Z",
     "shell.execute_reply": "2023-04-24T05:48:47.633208Z"
    },
    "papermill": {
     "duration": 0.042872,
     "end_time": "2023-04-24T05:48:47.637693",
     "exception": false,
     "start_time": "2023-04-24T05:48:47.594821",
     "status": "completed"
    },
    "tags": []
   },
   "outputs": [],
   "source": [
    "# Dataset: https://www.kaggle.com/datasets/mdmahmudulhasansuzan/students-adaptability-level-in-online-education\n",
    "\n",
    "data = pd.read_csv('/kaggle/input/students-adaptability-level-in-online-education/students_adaptability_level_online_education.csv')\n",
    "data = data.rename(columns=lambda x: x.replace(' ', '_'))"
   ]
  },
  {
   "cell_type": "code",
   "execution_count": 3,
   "id": "22446e93",
   "metadata": {
    "execution": {
     "iopub.execute_input": "2023-04-24T05:48:47.648481Z",
     "iopub.status.busy": "2023-04-24T05:48:47.647626Z",
     "iopub.status.idle": "2023-04-24T05:48:47.679598Z",
     "shell.execute_reply": "2023-04-24T05:48:47.678055Z"
    },
    "papermill": {
     "duration": 0.041326,
     "end_time": "2023-04-24T05:48:47.683029",
     "exception": false,
     "start_time": "2023-04-24T05:48:47.641703",
     "status": "completed"
    },
    "tags": []
   },
   "outputs": [],
   "source": [
    "le = LabelEncoder()\n",
    "for col in data.columns:\n",
    "    if data[col].dtype == 'object':\n",
    "        data[col] = le.fit_transform(data[col])\n",
    "\n",
    "X = data.drop('Adaptivity_Level', axis=1)\n",
    "y = data['Adaptivity_Level']\n",
    "X_train, X_test, y_train, y_test = train_test_split(X, y, test_size=0.2, random_state=42)"
   ]
  },
  {
   "cell_type": "code",
   "execution_count": 4,
   "id": "c909143e",
   "metadata": {
    "execution": {
     "iopub.execute_input": "2023-04-24T05:48:47.693407Z",
     "iopub.status.busy": "2023-04-24T05:48:47.692077Z",
     "iopub.status.idle": "2023-04-24T05:48:47.914981Z",
     "shell.execute_reply": "2023-04-24T05:48:47.913859Z"
    },
    "papermill": {
     "duration": 0.231288,
     "end_time": "2023-04-24T05:48:47.918084",
     "exception": false,
     "start_time": "2023-04-24T05:48:47.686796",
     "status": "completed"
    },
    "tags": []
   },
   "outputs": [],
   "source": [
    "rfc = RandomForestClassifier(n_estimators=100)\n",
    "rfc.fit(X_train, y_train)\n",
    "y_pred = rfc.predict(X_test)\n",
    "rfc_accuracy = accuracy_score(y_test, y_pred)"
   ]
  },
  {
   "cell_type": "code",
   "execution_count": 5,
   "id": "64f751c1",
   "metadata": {
    "execution": {
     "iopub.execute_input": "2023-04-24T05:48:47.928994Z",
     "iopub.status.busy": "2023-04-24T05:48:47.927559Z",
     "iopub.status.idle": "2023-04-24T05:48:47.966914Z",
     "shell.execute_reply": "2023-04-24T05:48:47.965345Z"
    },
    "papermill": {
     "duration": 0.04838,
     "end_time": "2023-04-24T05:48:47.970374",
     "exception": false,
     "start_time": "2023-04-24T05:48:47.921994",
     "status": "completed"
    },
    "tags": []
   },
   "outputs": [],
   "source": [
    "nn_train = rfc.predict(X_train).reshape(-1, 1)\n",
    "nn_test = y_pred.reshape(-1, 1)"
   ]
  },
  {
   "cell_type": "code",
   "execution_count": 6,
   "id": "bd94edfe",
   "metadata": {
    "execution": {
     "iopub.execute_input": "2023-04-24T05:48:47.980531Z",
     "iopub.status.busy": "2023-04-24T05:48:47.979800Z",
     "iopub.status.idle": "2023-04-24T05:48:58.380172Z",
     "shell.execute_reply": "2023-04-24T05:48:58.378544Z"
    },
    "papermill": {
     "duration": 10.409422,
     "end_time": "2023-04-24T05:48:58.383709",
     "exception": false,
     "start_time": "2023-04-24T05:48:47.974287",
     "status": "completed"
    },
    "tags": []
   },
   "outputs": [],
   "source": [
    "import tensorflow as tf\n",
    "from tensorflow.keras.layers import Dense, Dropout\n",
    "from tensorflow.keras.callbacks import EarlyStopping"
   ]
  },
  {
   "cell_type": "code",
   "execution_count": 7,
   "id": "ffa942b3",
   "metadata": {
    "execution": {
     "iopub.execute_input": "2023-04-24T05:48:58.394724Z",
     "iopub.status.busy": "2023-04-24T05:48:58.393641Z",
     "iopub.status.idle": "2023-04-24T05:48:59.005715Z",
     "shell.execute_reply": "2023-04-24T05:48:59.003605Z"
    },
    "papermill": {
     "duration": 0.6217,
     "end_time": "2023-04-24T05:48:59.009391",
     "exception": false,
     "start_time": "2023-04-24T05:48:58.387691",
     "status": "completed"
    },
    "tags": []
   },
   "outputs": [],
   "source": [
    "model = tf.keras.Sequential([\n",
    "    Dense(128, activation='relu', input_shape=(1,)),\n",
    "    Dropout(0.2),\n",
    "    Dense(64, activation='relu'),\n",
    "    Dropout(0.2),\n",
    "    Dense(32, activation='relu'),\n",
    "    Dropout(0.2),\n",
    "    Dense(1, activation='sigmoid')\n",
    "])"
   ]
  },
  {
   "cell_type": "code",
   "execution_count": 8,
   "id": "b126be6c",
   "metadata": {
    "execution": {
     "iopub.execute_input": "2023-04-24T05:48:59.019328Z",
     "iopub.status.busy": "2023-04-24T05:48:59.018779Z",
     "iopub.status.idle": "2023-04-24T05:48:59.042667Z",
     "shell.execute_reply": "2023-04-24T05:48:59.041328Z"
    },
    "papermill": {
     "duration": 0.032888,
     "end_time": "2023-04-24T05:48:59.046153",
     "exception": false,
     "start_time": "2023-04-24T05:48:59.013265",
     "status": "completed"
    },
    "tags": []
   },
   "outputs": [],
   "source": [
    "optimizer = tf.keras.optimizers.Adamax(learning_rate=0.001)\n",
    "model.compile(loss='binary_crossentropy', optimizer=optimizer, metrics=['accuracy'])"
   ]
  },
  {
   "cell_type": "code",
   "execution_count": 9,
   "id": "34c00786",
   "metadata": {
    "execution": {
     "iopub.execute_input": "2023-04-24T05:48:59.056699Z",
     "iopub.status.busy": "2023-04-24T05:48:59.056137Z",
     "iopub.status.idle": "2023-04-24T05:49:06.936907Z",
     "shell.execute_reply": "2023-04-24T05:49:06.935361Z"
    },
    "papermill": {
     "duration": 7.890439,
     "end_time": "2023-04-24T05:49:06.940675",
     "exception": false,
     "start_time": "2023-04-24T05:48:59.050236",
     "status": "completed"
    },
    "tags": []
   },
   "outputs": [
    {
     "name": "stdout",
     "output_type": "stream",
     "text": [
      "Epoch 1/50\n",
      "25/25 [==============================] - 2s 16ms/step - loss: -0.0991 - accuracy: 0.3813 - val_loss: -0.7081 - val_accuracy: 0.3938\n",
      "Epoch 2/50\n",
      "25/25 [==============================] - 0s 6ms/step - loss: -1.6205 - accuracy: 0.3904 - val_loss: -2.3738 - val_accuracy: 0.3938\n",
      "Epoch 3/50\n",
      "25/25 [==============================] - 0s 5ms/step - loss: -3.8392 - accuracy: 0.3904 - val_loss: -4.8711 - val_accuracy: 0.3938\n",
      "Epoch 4/50\n",
      "25/25 [==============================] - 0s 5ms/step - loss: -7.8173 - accuracy: 0.3904 - val_loss: -9.3463 - val_accuracy: 0.3938\n",
      "Epoch 5/50\n",
      "25/25 [==============================] - 0s 5ms/step - loss: -13.3089 - accuracy: 0.3904 - val_loss: -15.3088 - val_accuracy: 0.3938\n",
      "Epoch 6/50\n",
      "25/25 [==============================] - 0s 5ms/step - loss: -21.9184 - accuracy: 0.3904 - val_loss: -24.5088 - val_accuracy: 0.3938\n",
      "Epoch 7/50\n",
      "25/25 [==============================] - 0s 4ms/step - loss: -35.2106 - accuracy: 0.3904 - val_loss: -38.0705 - val_accuracy: 0.3938\n",
      "Epoch 8/50\n",
      "25/25 [==============================] - 0s 5ms/step - loss: -51.2999 - accuracy: 0.3904 - val_loss: -55.6481 - val_accuracy: 0.3938\n",
      "Epoch 9/50\n",
      "25/25 [==============================] - 0s 5ms/step - loss: -72.4402 - accuracy: 0.3904 - val_loss: -73.6699 - val_accuracy: 0.3938\n",
      "Epoch 10/50\n",
      "25/25 [==============================] - 0s 5ms/step - loss: -97.5157 - accuracy: 0.3904 - val_loss: -99.0624 - val_accuracy: 0.3938\n",
      "Epoch 11/50\n",
      "25/25 [==============================] - 0s 5ms/step - loss: -128.8010 - accuracy: 0.3904 - val_loss: -132.6315 - val_accuracy: 0.3938\n",
      "Epoch 12/50\n",
      "25/25 [==============================] - 0s 4ms/step - loss: -172.3605 - accuracy: 0.3904 - val_loss: -177.7898 - val_accuracy: 0.3938\n",
      "Epoch 13/50\n",
      "25/25 [==============================] - 0s 4ms/step - loss: -232.7112 - accuracy: 0.3904 - val_loss: -235.3701 - val_accuracy: 0.3938\n",
      "Epoch 14/50\n",
      "25/25 [==============================] - 0s 4ms/step - loss: -304.1830 - accuracy: 0.3904 - val_loss: -304.2915 - val_accuracy: 0.3938\n",
      "Epoch 15/50\n",
      "25/25 [==============================] - 0s 4ms/step - loss: -392.8971 - accuracy: 0.3904 - val_loss: -390.8720 - val_accuracy: 0.3938\n",
      "Epoch 16/50\n",
      "25/25 [==============================] - 0s 4ms/step - loss: -499.1428 - accuracy: 0.3904 - val_loss: -481.4568 - val_accuracy: 0.3938\n",
      "Epoch 17/50\n",
      "25/25 [==============================] - 0s 4ms/step - loss: -605.1873 - accuracy: 0.3904 - val_loss: -587.4493 - val_accuracy: 0.3938\n",
      "Epoch 18/50\n",
      "25/25 [==============================] - 0s 4ms/step - loss: -743.1871 - accuracy: 0.3904 - val_loss: -723.1517 - val_accuracy: 0.3938\n",
      "Epoch 19/50\n",
      "25/25 [==============================] - 0s 5ms/step - loss: -903.3380 - accuracy: 0.3904 - val_loss: -878.2865 - val_accuracy: 0.3938\n",
      "Epoch 20/50\n",
      "25/25 [==============================] - 0s 4ms/step - loss: -1102.4084 - accuracy: 0.3904 - val_loss: -1062.1311 - val_accuracy: 0.3938\n",
      "Epoch 21/50\n",
      "25/25 [==============================] - 0s 4ms/step - loss: -1324.9320 - accuracy: 0.3904 - val_loss: -1275.5408 - val_accuracy: 0.3938\n",
      "Epoch 22/50\n",
      "25/25 [==============================] - 0s 4ms/step - loss: -1583.2242 - accuracy: 0.3904 - val_loss: -1511.4335 - val_accuracy: 0.3938\n",
      "Epoch 23/50\n",
      "25/25 [==============================] - 0s 4ms/step - loss: -1887.7753 - accuracy: 0.3904 - val_loss: -1797.7251 - val_accuracy: 0.3938\n",
      "Epoch 24/50\n",
      "25/25 [==============================] - 0s 4ms/step - loss: -2245.3755 - accuracy: 0.3904 - val_loss: -2123.4756 - val_accuracy: 0.3938\n",
      "Epoch 25/50\n",
      "25/25 [==============================] - 0s 4ms/step - loss: -2615.8123 - accuracy: 0.3904 - val_loss: -2377.0029 - val_accuracy: 0.3938\n",
      "Epoch 26/50\n",
      "25/25 [==============================] - 0s 4ms/step - loss: -2932.3174 - accuracy: 0.3904 - val_loss: -2667.3079 - val_accuracy: 0.3938\n",
      "Epoch 27/50\n",
      "25/25 [==============================] - 0s 4ms/step - loss: -3263.6531 - accuracy: 0.3904 - val_loss: -2981.1902 - val_accuracy: 0.3938\n",
      "Epoch 28/50\n",
      "25/25 [==============================] - 0s 4ms/step - loss: -3618.4167 - accuracy: 0.3904 - val_loss: -3343.6099 - val_accuracy: 0.3938\n",
      "Epoch 29/50\n",
      "25/25 [==============================] - 0s 4ms/step - loss: -4074.7053 - accuracy: 0.3904 - val_loss: -3772.7300 - val_accuracy: 0.3938\n",
      "Epoch 30/50\n",
      "25/25 [==============================] - 0s 4ms/step - loss: -4599.2021 - accuracy: 0.3904 - val_loss: -4261.1958 - val_accuracy: 0.3938\n",
      "Epoch 31/50\n",
      "25/25 [==============================] - 0s 4ms/step - loss: -5146.4146 - accuracy: 0.3904 - val_loss: -4821.4761 - val_accuracy: 0.3938\n",
      "Epoch 32/50\n",
      "25/25 [==============================] - 0s 4ms/step - loss: -5884.3896 - accuracy: 0.3904 - val_loss: -5485.4722 - val_accuracy: 0.3938\n",
      "Epoch 33/50\n",
      "25/25 [==============================] - 0s 5ms/step - loss: -6711.7339 - accuracy: 0.3904 - val_loss: -6238.5205 - val_accuracy: 0.3938\n",
      "Epoch 34/50\n",
      "25/25 [==============================] - 0s 5ms/step - loss: -7571.7061 - accuracy: 0.3904 - val_loss: -7038.3901 - val_accuracy: 0.3938\n",
      "Epoch 35/50\n",
      "25/25 [==============================] - 0s 5ms/step - loss: -8502.6113 - accuracy: 0.3904 - val_loss: -7900.3638 - val_accuracy: 0.3938\n",
      "Epoch 36/50\n",
      "25/25 [==============================] - 0s 5ms/step - loss: -9652.6416 - accuracy: 0.3904 - val_loss: -8870.4648 - val_accuracy: 0.3938\n",
      "Epoch 37/50\n",
      "25/25 [==============================] - 0s 4ms/step - loss: -10817.9619 - accuracy: 0.3904 - val_loss: -9907.8135 - val_accuracy: 0.3938\n",
      "Epoch 38/50\n",
      "25/25 [==============================] - 0s 4ms/step - loss: -11970.3809 - accuracy: 0.3904 - val_loss: -10933.8096 - val_accuracy: 0.3938\n",
      "Epoch 39/50\n",
      "25/25 [==============================] - 0s 5ms/step - loss: -13286.0977 - accuracy: 0.3904 - val_loss: -12047.9590 - val_accuracy: 0.3938\n",
      "Epoch 40/50\n",
      "25/25 [==============================] - 0s 4ms/step - loss: -14373.6475 - accuracy: 0.3904 - val_loss: -13276.7275 - val_accuracy: 0.3938\n",
      "Epoch 41/50\n",
      "25/25 [==============================] - 0s 4ms/step - loss: -15768.2529 - accuracy: 0.3904 - val_loss: -14607.0781 - val_accuracy: 0.3938\n",
      "Epoch 42/50\n",
      "25/25 [==============================] - 0s 5ms/step - loss: -17410.5234 - accuracy: 0.3904 - val_loss: -15702.1143 - val_accuracy: 0.3938\n",
      "Epoch 43/50\n",
      "25/25 [==============================] - 0s 5ms/step - loss: -18765.0527 - accuracy: 0.3904 - val_loss: -16882.2910 - val_accuracy: 0.3938\n",
      "Epoch 44/50\n",
      "25/25 [==============================] - 0s 5ms/step - loss: -20038.2969 - accuracy: 0.3904 - val_loss: -18114.7520 - val_accuracy: 0.3938\n",
      "Epoch 45/50\n",
      "25/25 [==============================] - 0s 5ms/step - loss: -21527.8320 - accuracy: 0.3904 - val_loss: -19409.1367 - val_accuracy: 0.3938\n",
      "Epoch 46/50\n",
      "25/25 [==============================] - 0s 5ms/step - loss: -23177.2832 - accuracy: 0.3904 - val_loss: -20858.9043 - val_accuracy: 0.3938\n",
      "Epoch 47/50\n",
      "25/25 [==============================] - 0s 5ms/step - loss: -24614.3184 - accuracy: 0.3904 - val_loss: -22405.9551 - val_accuracy: 0.3938\n",
      "Epoch 48/50\n",
      "25/25 [==============================] - 0s 5ms/step - loss: -26950.7051 - accuracy: 0.3904 - val_loss: -24206.7871 - val_accuracy: 0.3938\n",
      "Epoch 49/50\n",
      "25/25 [==============================] - 0s 5ms/step - loss: -28863.1465 - accuracy: 0.3904 - val_loss: -26127.6680 - val_accuracy: 0.3938\n",
      "Epoch 50/50\n",
      "25/25 [==============================] - 0s 5ms/step - loss: -30853.7461 - accuracy: 0.3904 - val_loss: -28052.7168 - val_accuracy: 0.3938\n"
     ]
    }
   ],
   "source": [
    "early_stopping = EarlyStopping(monitor='val_loss', patience=10)\n",
    "history = model.fit(nn_train, y_train, epochs=50, batch_size=32, validation_split=0.2, callbacks=[early_stopping])"
   ]
  },
  {
   "cell_type": "code",
   "execution_count": 10,
   "id": "34ead44b",
   "metadata": {
    "execution": {
     "iopub.execute_input": "2023-04-24T05:49:06.976572Z",
     "iopub.status.busy": "2023-04-24T05:49:06.975999Z",
     "iopub.status.idle": "2023-04-24T05:49:07.102371Z",
     "shell.execute_reply": "2023-04-24T05:49:07.099788Z"
    },
    "papermill": {
     "duration": 0.148203,
     "end_time": "2023-04-24T05:49:07.105681",
     "exception": false,
     "start_time": "2023-04-24T05:49:06.957478",
     "status": "completed"
    },
    "tags": []
   },
   "outputs": [
    {
     "name": "stdout",
     "output_type": "stream",
     "text": [
      "8/8 [==============================] - 0s 3ms/step - loss: -26961.6055 - accuracy: 0.4274\n",
      "Random Forest Accuracy: 0.9087136929460581\n",
      "Neural Network Accuracy: 0.4273858964443207\n"
     ]
    }
   ],
   "source": [
    "_, accuracy = model.evaluate(nn_test, y_test)\n",
    "print('Random Forest Accuracy:', rfc_accuracy)\n",
    "print('Neural Network Accuracy:', accuracy)"
   ]
  }
 ],
 "metadata": {
  "kernelspec": {
   "display_name": "Python 3",
   "language": "python",
   "name": "python3"
  },
  "language_info": {
   "codemirror_mode": {
    "name": "ipython",
    "version": 3
   },
   "file_extension": ".py",
   "mimetype": "text/x-python",
   "name": "python",
   "nbconvert_exporter": "python",
   "pygments_lexer": "ipython3",
   "version": "3.7.12"
  },
  "papermill": {
   "default_parameters": {},
   "duration": 38.014764,
   "end_time": "2023-04-24T05:49:10.579625",
   "environment_variables": {},
   "exception": null,
   "input_path": "__notebook__.ipynb",
   "output_path": "__notebook__.ipynb",
   "parameters": {},
   "start_time": "2023-04-24T05:48:32.564861",
   "version": "2.4.0"
  }
 },
 "nbformat": 4,
 "nbformat_minor": 5
}
